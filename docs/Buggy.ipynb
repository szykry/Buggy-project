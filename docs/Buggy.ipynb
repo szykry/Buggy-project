{
  "nbformat": 4,
  "nbformat_minor": 0,
  "metadata": {
    "colab": {
      "name": "Buggy.ipynb",
      "provenance": [],
      "collapsed_sections": [],
      "toc_visible": true
    },
    "kernelspec": {
      "name": "python3",
      "display_name": "Python 3"
    },
    "accelerator": "GPU"
  },
  "cells": [
    {
      "cell_type": "markdown",
      "metadata": {
        "id": "u5PWWE3qxyNv",
        "colab_type": "text"
      },
      "source": [
        "## Init"
      ]
    },
    {
      "cell_type": "code",
      "metadata": {
        "id": "E2UWL88uRm6e",
        "colab_type": "code",
        "colab": {}
      },
      "source": [
        "# Update torch, torchvision and numpy\n",
        "\n",
        "!pip install -U torch torchvision tensorflow numpy"
      ],
      "execution_count": 0,
      "outputs": []
    },
    {
      "cell_type": "code",
      "metadata": {
        "id": "ghRaKmMBJHl1",
        "colab_type": "code",
        "colab": {}
      },
      "source": [
        "# Install A2C implementation, Gym and PyBullet\n",
        "\n",
        "!git clone https://github.com/ikostrikov/pytorch-a2c-ppo-acktr-gail.git\n",
        "!cd pytorch-a2c-ppo-acktr-gail && pip install -e .\n",
        "\n",
        "# Baselines for Atari preprocessing and Vectorized environments\n",
        "!pip install stable-baselines"
      ],
      "execution_count": 0,
      "outputs": []
    },
    {
      "cell_type": "code",
      "metadata": {
        "id": "MSWJ7zuOMOtH",
        "colab_type": "code",
        "colab": {}
      },
      "source": [
        "# Install RAdam optimizer\n",
        "\n",
        "!git clone https://github.com/LiyuanLucasLiu/RAdam.git\n",
        "!cd RAdam && pip install -e ."
      ],
      "execution_count": 0,
      "outputs": []
    },
    {
      "cell_type": "code",
      "metadata": {
        "id": "Hk_-8iKUoE-W",
        "colab_type": "code",
        "colab": {}
      },
      "source": [
        "# Install Buggy Project repository\n",
        "\n",
        "!git clone https://github.com/szykry/Buggy-project.git    # private"
      ],
      "execution_count": 0,
      "outputs": []
    },
    {
      "cell_type": "code",
      "metadata": {
        "id": "SDS7OtC1p0lQ",
        "colab_type": "code",
        "colab": {}
      },
      "source": [
        "import os\n",
        "name = \"/content/Buggy-project/\"\n",
        "os.chdir(name)\n",
        "!pwd"
      ],
      "execution_count": 0,
      "outputs": []
    },
    {
      "cell_type": "markdown",
      "metadata": {
        "id": "ppS0djPPQ9d1",
        "colab_type": "text"
      },
      "source": [
        "# Training"
      ]
    },
    {
      "cell_type": "code",
      "metadata": {
        "id": "e6Es8w-QzR0L",
        "colab_type": "code",
        "colab": {}
      },
      "source": [
        "!python main.py"
      ],
      "execution_count": 0,
      "outputs": []
    }
  ]
}